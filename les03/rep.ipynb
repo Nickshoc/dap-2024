{
  "cells": [
    {
      "cell_type": "markdown",
      "metadata": {
        "id": "qQvfD-M40xIt"
      },
      "source": [
        "# Лабораторная работа №3. NumPy"
      ]
    },
    {
      "cell_type": "markdown",
      "metadata": {
        "id": "PPlQCG8B5hI7"
      },
      "source": [
        "## Задание"
      ]
    },
    {
      "cell_type": "code",
      "execution_count": 2,
      "metadata": {
        "colab": {
          "base_uri": "https://localhost:8080/",
          "height": 35
        },
        "id": "3ftbuMN45IlN",
        "outputId": "7a6bf782-b7df-4564-d803-4baa95cb6464"
      },
      "outputs": [
        {
          "output_type": "execute_result",
          "data": {
            "text/plain": [
              "'2.0.2'"
            ],
            "application/vnd.google.colaboratory.intrinsic+json": {
              "type": "string"
            }
          },
          "metadata": {},
          "execution_count": 2
        }
      ],
      "source": [
        "import numpy as np\n",
        "np.version.version"
      ]
    },
    {
      "cell_type": "markdown",
      "metadata": {
        "id": "6iPL4gTu2ECp"
      },
      "source": [
        "1. Создать массив 10x10 со случайными значениями, найти минимум и максимум (низкая)"
      ]
    },
    {
      "cell_type": "code",
      "execution_count": 31,
      "metadata": {
        "id": "v-AutHvo2T-D",
        "colab": {
          "base_uri": "https://localhost:8080/"
        },
        "outputId": "9b4d226c-94cb-4074-b956-704f8623d87d"
      },
      "outputs": [
        {
          "output_type": "stream",
          "name": "stdout",
          "text": [
            "[[ 3 36 39 18 34 82 43 94 71  6]\n",
            " [60 48 13 41  0 39 77 45 80 95]\n",
            " [33 94 75 27  5 84 75 15 53 12]\n",
            " [23 97 85 41 42 83 13  4 37 48]\n",
            " [14 25 91 66 54 20 90 50 26 56]\n",
            " [90 46 72 63 86 40 47 16 41  7]\n",
            " [10 82 58 25 10 41 86 70 10  2]\n",
            " [77 23 88 40 21 43 85 58 59 97]\n",
            " [ 8 21 85 10 36 59 22 27 82 29]\n",
            " [39 17  7 56 59  9 50 59 34 34]]\n",
            "Минимум: 0, Максимум: 97\n"
          ]
        }
      ],
      "source": [
        "z = np.random.randint(0, 100, size=(10, 10))\n",
        "print(z)\n",
        "print(f\"Минимум: {np.min(z)}, Максимум: {np.max(z)}\")"
      ]
    },
    {
      "cell_type": "markdown",
      "metadata": {
        "id": "cwxKoGik2Xfd"
      },
      "source": [
        "2. Создать 8x8 матрицу и заполнить её единицами и нулями в шахматном порядке"
      ]
    },
    {
      "cell_type": "code",
      "execution_count": 26,
      "metadata": {
        "id": "zACAjKWC2lBy",
        "colab": {
          "base_uri": "https://localhost:8080/"
        },
        "outputId": "8360aa5f-b809-4c1f-f93c-f86121e93e82"
      },
      "outputs": [
        {
          "output_type": "stream",
          "name": "stdout",
          "text": [
            "[[0 1 0 1 0 1 0 1]\n",
            " [1 0 1 0 1 0 1 0]\n",
            " [0 1 0 1 0 1 0 1]\n",
            " [1 0 1 0 1 0 1 0]\n",
            " [0 1 0 1 0 1 0 1]\n",
            " [1 0 1 0 1 0 1 0]\n",
            " [0 1 0 1 0 1 0 1]\n",
            " [1 0 1 0 1 0 1 0]]\n"
          ]
        }
      ],
      "source": [
        "z = np.zeros((8, 8), dtype=int)\n",
        "z[1::2, ::2] = 1  # нечетные строки, четные столбцы\n",
        "z[::2, 1::2] = 1  # четные строки, нечетные столбцы\n",
        "print(z)\n"
      ]
    },
    {
      "cell_type": "markdown",
      "metadata": {
        "id": "YvNFm7Io2tSA"
      },
      "source": [
        "3. Дан массив из 11 элементов, поменять знак у элементов, значения которых между 3 и 8"
      ]
    },
    {
      "cell_type": "code",
      "execution_count": 39,
      "metadata": {
        "id": "cczoe3OY27fA",
        "colab": {
          "base_uri": "https://localhost:8080/"
        },
        "outputId": "03cb4db2-a169-4d1f-a4ca-79625244f330"
      },
      "outputs": [
        {
          "output_type": "stream",
          "name": "stdout",
          "text": [
            "[ 0  1  2  3 -4 -5 -6 -7  8  9 10]\n"
          ]
        }
      ],
      "source": [
        "Z = np.arange(11)\n",
        "Z[(3 < Z) & (Z < 8)] *= -1\n",
        "print(Z)"
      ]
    },
    {
      "cell_type": "markdown",
      "metadata": {
        "id": "tInYHRPf2-jQ"
      },
      "source": [
        "4. Найти среднее заначение строки матрицы и вычесть его из каждого елемента строки"
      ]
    },
    {
      "cell_type": "code",
      "execution_count": 43,
      "metadata": {
        "id": "Zbv_WG9w3km1",
        "colab": {
          "base_uri": "https://localhost:8080/"
        },
        "outputId": "84fea9b7-3776-4abf-ff0e-5bcfe1bfc9ce"
      },
      "outputs": [
        {
          "output_type": "stream",
          "name": "stdout",
          "text": [
            "Исходная матрица:\n",
            "[[0.83859756 0.67716838 0.71387532 0.0996603  0.91060708 0.27483619\n",
            "  0.89828138 0.40462377 0.32499351 0.34161122]\n",
            " [0.89256711 0.00781553 0.31788114 0.19372163 0.3537713  0.8245047\n",
            "  0.76433828 0.72978646 0.13229111 0.60260244]\n",
            " [0.51080861 0.57678471 0.46445984 0.80179266 0.57920282 0.81389116\n",
            "  0.89097773 0.01619463 0.36453747 0.61307445]\n",
            " [0.68985836 0.24983607 0.88342614 0.90828521 0.78795184 0.47205571\n",
            "  0.09443766 0.38672355 0.99586846 0.75439354]\n",
            " [0.11730738 0.66415115 0.05311386 0.56318608 0.99574869 0.492211\n",
            "  0.47042932 0.88506339 0.10606338 0.84910434]]\n",
            "\n",
            "Средние значения строк (исходные):\n",
            "[0.54842547 0.48192797 0.56317241 0.62228365 0.51963786]\n",
            "\n",
            "Результат после вычитания среднего:\n",
            "[[ 0.29017209  0.12874291  0.16544985 -0.44876517  0.36218161 -0.27358928\n",
            "   0.34985591 -0.1438017  -0.22343196 -0.20681425]\n",
            " [ 0.41063914 -0.47411244 -0.16404683 -0.28820634 -0.12815667  0.34257673\n",
            "   0.28241031  0.24785849 -0.34963686  0.12067447]\n",
            " [-0.0523638   0.0136123  -0.09871257  0.23862025  0.01603042  0.25071875\n",
            "   0.32780532 -0.54697778 -0.19863494  0.04990205]\n",
            " [ 0.06757471 -0.37244759  0.26114248  0.28600156  0.16566818 -0.15022794\n",
            "  -0.52784599 -0.2355601   0.3735848   0.13210988]\n",
            " [-0.40233047  0.14451329 -0.466524    0.04354822  0.47611083 -0.02742686\n",
            "  -0.04920854  0.36542553 -0.41357447  0.32946648]]\n"
          ]
        }
      ],
      "source": [
        "z = np.random.rand(5, 10)\n",
        "row_means = np.mean(z, axis=1, keepdims=True)\n",
        "\n",
        "result = z - row_means\n",
        "\n",
        "print(\"Исходная матрица:\")\n",
        "print(z)\n",
        "print(\"\\nСредние значения строк (исходные):\")\n",
        "print(np.mean(z, axis=1))\n",
        "print(\"\\nРезультат после вычитания среднего:\")\n",
        "print(result)"
      ]
    },
    {
      "cell_type": "markdown",
      "metadata": {
        "id": "OStor4mW3lpJ"
      },
      "source": [
        "5. Поменяйте 1 и 2 строки матрицы"
      ]
    },
    {
      "cell_type": "code",
      "execution_count": 44,
      "metadata": {
        "id": "5vfeHqyF3qKd",
        "colab": {
          "base_uri": "https://localhost:8080/"
        },
        "outputId": "6d3d2a69-f099-4c56-c3e6-0f29867699d4"
      },
      "outputs": [
        {
          "output_type": "stream",
          "name": "stdout",
          "text": [
            "[[ 5  6  7  8  9]\n",
            " [ 0  1  2  3  4]\n",
            " [10 11 12 13 14]\n",
            " [15 16 17 18 19]\n",
            " [20 21 22 23 24]]\n"
          ]
        }
      ],
      "source": [
        "z = np.arange(25).reshape(5,5)\n",
        "z[[0,1]] = z[[1,0]]\n",
        "print(z)"
      ]
    },
    {
      "cell_type": "markdown",
      "metadata": {
        "id": "IPQ9xIIk3qml"
      },
      "source": [
        "6. Дан массив 10x2 подеставлющий собой точки в декартовой системе координат, преобразовать в полярную"
      ]
    },
    {
      "cell_type": "code",
      "execution_count": 45,
      "metadata": {
        "id": "zGHBaX8b30Uv",
        "colab": {
          "base_uri": "https://localhost:8080/"
        },
        "outputId": "5066cdfd-5e86-49aa-f934-efa7b57f9486"
      },
      "outputs": [
        {
          "output_type": "stream",
          "name": "stdout",
          "text": [
            "[0.66162809 0.7681041  0.46585823 1.18842603 1.30597471 1.1157158\n",
            " 1.11696882 0.21692341 0.77967621 0.93717571]\n",
            "[0.73023683 0.32394618 0.52996427 0.92556338 0.74502698 0.99927596\n",
            " 1.10178616 1.47021998 0.45547654 0.07896648]\n"
          ]
        }
      ],
      "source": [
        "z = np.random.random((10,2))\n",
        "X,Y = z[:,0], z[:,1]\n",
        "R = np.hypot(X, Y)\n",
        "T = np.arctan2(Y,X)\n",
        "print(R)\n",
        "print(T)"
      ]
    },
    {
      "cell_type": "markdown",
      "metadata": {
        "id": "10gbuTgE4AOH"
      },
      "source": [
        "7. Заменить максимальный элемент массива на ноль"
      ]
    },
    {
      "cell_type": "code",
      "execution_count": 48,
      "metadata": {
        "id": "gqwuO2T_5Aqd",
        "colab": {
          "base_uri": "https://localhost:8080/"
        },
        "outputId": "881b833e-b4a2-4b18-b888-311c64f1feeb"
      },
      "outputs": [
        {
          "output_type": "stream",
          "name": "stdout",
          "text": [
            "[0.55045814 0.16906275 0.17461201 0.2756939  0.53698898 0.73955895\n",
            " 0.8741302  0.60650379 0.         0.53540561]\n"
          ]
        }
      ],
      "source": [
        "z = np.random.random(10)\n",
        "z[z.argmax()] = 0\n",
        "print(z)"
      ]
    },
    {
      "cell_type": "markdown",
      "metadata": {
        "id": "88m_eWXM6nZY"
      },
      "source": [
        "8. Дан массив, добавить 1 к каждому элементу с индексом, заданным в другом массиве. Добавление производиться только 1 раз"
      ]
    },
    {
      "cell_type": "code",
      "execution_count": 50,
      "metadata": {
        "id": "-5yj9k126pfh",
        "colab": {
          "base_uri": "https://localhost:8080/"
        },
        "outputId": "ab56e1d5-df2b-40dc-bc3c-68cd3b2c51e7"
      },
      "outputs": [
        {
          "output_type": "stream",
          "name": "stdout",
          "text": [
            "Исходный массив: [1. 1. 1. 1. 1. 1. 1. 1. 1. 1.]\n",
            "Индексы для добавления: [2 5 4 2 9 8 7 5 8 3 3 6 3 6 7 2 8 5 3 7]\n",
            "После добавления 1: [1. 1. 4. 5. 2. 4. 3. 4. 4. 2.]\n"
          ]
        }
      ],
      "source": [
        "z = np.ones(10)\n",
        "i = np.random.randint(0,len(z),20)\n",
        "print(f\"Исходный массив: {z}\")\n",
        "print(f\"Индексы для добавления: {i}\")\n",
        "np.add.at(z, i, 1)\n",
        "print(f\"После добавления 1: {z}\")"
      ]
    },
    {
      "cell_type": "markdown",
      "metadata": {
        "id": "0HByAVK77JCG"
      },
      "source": [
        "9. Дан вектор [1, 2, 3, 4, 5], построить новый вектор с тремя нулями между каждым значением"
      ]
    },
    {
      "cell_type": "code",
      "execution_count": 51,
      "metadata": {
        "id": "2AiZt-J47dqq",
        "colab": {
          "base_uri": "https://localhost:8080/"
        },
        "outputId": "09b01352-e4e6-4763-c93c-47650d10dbba"
      },
      "outputs": [
        {
          "output_type": "stream",
          "name": "stdout",
          "text": [
            "Исходный вектор: [1 2 3 4 5]\n",
            "Результат с тремя нулями: [1. 0. 0. 0. 2. 0. 0. 0. 3. 0. 0. 0. 4. 0. 0. 0. 5.]\n",
            "\n"
          ]
        }
      ],
      "source": [
        "z = np.array([1,2,3,4,5])\n",
        "result = np.zeros(len(z) + (len(z) - 1) * 3)\n",
        "result[::4] = z",
        "print(f\"Исходный вектор: {z}\")\n",
        "print(f\"Результат с тремя нулями: {result}\")\n",
        "print()"
      ]
    },
    {
      "cell_type": "markdown",
      "metadata": {
        "id": "i0uK-dO08AKP"
      },
      "source": [
        "10. Найти ближайшее к заданному значению число в заданном массиве"
      ]
    },
    {
      "cell_type": "code",
      "execution_count": 57,
      "metadata": {
        "id": "sE0DlZO_-4Cb",
        "colab": {
          "base_uri": "https://localhost:8080/"
        },
        "outputId": "a63cdd5e-03d0-4215-e0e4-187b0c521da0"
      },
      "outputs": [
        {
          "output_type": "stream",
          "name": "stdout",
          "text": [
            "Искомое значение: 79.8\n",
            "Ближайшее значение: 80\n",
            "Индекс ближайшего значения: 80\n"
          ]
        }
      ],
      "source": [
        "z = np.arange(100) # Число\n",
        "v = np.random.uniform(0,100) # Массив\n",
        "nearest_index = np.argmin(np.abs(z - v))\n",
        "nearest_value = z[nearest_index]\n",
        "print(f\"Искомое значение: {v:.1f}\")\n",
        "print(f\"Ближайшее значение: {nearest_value}\")\n",
        "print(f\"Индекс ближайшего значения: {nearest_index}\")"
      ]
    },
    {
      "cell_type": "markdown",
      "metadata": {
        "id": "0zUpsgh8uCfQ"
      },
      "source": [
        "## Вопросы\n",
        "\n",
        "\n"
      ]
    },
    {
      "cell_type": "markdown",
      "metadata": {
        "id": "RQEMkoq5vc3k"
      },
      "source": [
        "**1**. Какой тип (dtype) будут иметь элементы массива?\n",
        "``` python\n",
        "np.array([1, 4, 2, 5, 3])  #int64\n",
        "np.array([1., 4, 2, 5, 3]) #float64\n",
        "np.array([1, 4, 2, 5, 3], dtype='float128') #float128\n",
        "np.array([1., 4, 2, 5, 3], dtype='complex128') #complex128\n",
        "np.array([1, 4, 2, 5, 3], dtype ='float64') #float64\n",
        "np.array([1, 4, 2, 5, 3], dtype =int64) #int64\n",
        "np.array([1, 4, 2, 5, 3], dtype='bool') #bool\n",
        "np.array([1, 4, 2, 5, 3], dtype='str') #str\n",
        "np.array([1, 4, 2, 5, '3']) #str\n",
        "np.array([1, -4, 2, 0, 1j]) #complex128\n",
        "```"
      ]
    },
    {
      "cell_type": "markdown",
      "metadata": {
        "id": "SlJfe4Bgvd16"
      },
      "source": [
        "**2**. Что будет выведено в консоль и почему?\n",
        "``` python\n",
        "np.array([1, 4, 2, 5, 3], dtype='str')[1] + '1' #\"41\"\n",
        "np.array([1, -4, 2, 0, 3], dtype='bool')[3] or np.array([1, -4, 2, 0, 3])[1] #-4\n",
        "np.array([1, -4, 2, 0, 3], dtype='bool')[3] and np.array([1, -4, 2, 0, 3])[1] #0\n",
        "np.array([1, -4, 2, 0, True], dtype='int64')[-1] #1\n",
        "np.array([1, -4, 2, 0, 1j], dtype='int64')[1] #ошибка\n",
        "np.array([1, -4, 2, 0, 1j], dtype='str')[-1] #\"1j\"\n",
        "np.array([1, 4, 2, 5, '3'])[-1] * 3 # \"333\"\n",
        "```"
      ]
    },
    {
      "cell_type": "markdown",
      "metadata": {
        "id": "X50PESx7xVAc"
      },
      "source": [
        "**3**. Каков результат операции?\n",
        "\n",
        "``` python\n",
        "np.ones((3, 5), dtype=float) # Массив 3*5 из единиц типа float\n",
        "np.full((3, 5), 3.14) # Массив 3*5, заполненный 3.14\n",
        "np.linspace(0, 1, 5) # [0., 0.25, 0.5, 0.75, 1.]\n",
        "np.diag((1,3,5)) # Диагональная матрица с элементами 1,3,5\n",
        "np.smile((1,3,5)) # Ошибка\n",
        "np.random.random((3, 3)) #Массив 3x3 случайных чисел [0,1)\n",
        "np.eye(3) # Единичная матрица 3x3\n",
        "np.empty(3) # Массив из 3 неинициализированных элементов\n",
        "```\n",
        "\n"
      ]
    },
    {
      "cell_type": "markdown",
      "metadata": {
        "id": "D6Bt-8cfAWrA"
      },
      "source": [
        "**4**. Дан двумерный массив X, что будет выведено в консоль?\n",
        "\n",
        "``` python\n",
        "X = np.array([[3, 5, 2, 4],\n",
        "      [7, 6, 8, 8],\n",
        "      [1, 6, 7, 7]])\n",
        "```\n",
        "\n",
        "``` python\n",
        "X[0,0]  #3\n",
        "X[-1,-1] #7\n",
        "X[0:1,-1] #4\n",
        "X[0:2,-1] #4, 8\n",
        "X[0:2,0:2] #[3,5],[7,6]\n",
        "X[1,1:3] #6, 8\n",
        "X[1,:] #7, 6, 8, 8\n",
        "X[1,:] #7, 6, 8, 8\n",
        "X[:,:] #Весь массив\n",
        "X[:] #Весь массив\n",
        "X[::2,::2] #[3,2],[1,7]\n",
        "X[0:3:2,0:3:2] #[3,2], [1,7]\n",
        "X[::-1,::-1] #[[7, 7, 6, 1],\n",
        "      [8, 8, 6, 7],\n",
        "      [4, 2, 5, 3]]\n",
        "```"
      ]
    },
    {
      "cell_type": "markdown",
      "metadata": {
        "id": "8-7Zm4cb5hI_"
      },
      "source": [
        "**5**. Дан двумерный массив grid, в чем различее между операциями?\n",
        "\n",
        "\n",
        "``` python\n",
        "grid = np.arange(16).reshape((4, 4))\n",
        "```\n",
        "\n",
        "``` python\n",
        "np.split(grid, [2]) # Разделение по строкам\n",
        "np.split(grid, [2], axis=1) # Разделение по столбцам\n",
        "```\n"
      ]
    },
    {
      "cell_type": "markdown",
      "metadata": {
        "id": "HDRLFO_g5hJA"
      },
      "source": [
        "**6**. В чем различие между операциями?\n",
        "\n",
        "``` python\n",
        "    [1, 2, 3] + [3, 2, 1] # Конкатенация\n",
        "    np.array([1, 2, 3]) + np.array([3, 2, 1]) # Поэлементное сложение\n",
        "```"
      ]
    },
    {
      "cell_type": "markdown",
      "metadata": {
        "id": "5yE_1I3T5hJA"
      },
      "source": [
        "**7**. Как в CodeLab измерить время выполнения кода?\n",
        "\n",
        "%timeit выражение"
      ]
    },
    {
      "cell_type": "markdown",
      "metadata": {
        "id": "YwchvaE85hJA"
      },
      "source": [
        "**8**. Дан массив X, каковы результаты операций?\n",
        "\n",
        "```python\n",
        "X = np.array([[3, 5, 2, 4],\n",
        "      [7, 6, 8, 8],\n",
        "      [1, 6, 7, 7]])\n",
        "\n",
        "np.sum(M) #64\n",
        "np.sum(M, axis=1) #[14, 29, 21]\n",
        "np.sum(M, axis=0) #[11, 17, 17, 19]\n",
        "np.sum(M, axis=2) #Ошибка\n",
        "np.sum(M, 1) #[14, 29, 21]\n",
        "sum(M) #[11, 17, 17, 19]\n",
        "sum(M,1) #Ошибка\n",
        "```"
      ]
    },
    {
      "cell_type": "markdown",
      "metadata": {
        "id": "tpAOeBbT5hJA"
      },
      "source": [
        "**9**. Дан массив X, что будет выведено в консоль?\n",
        "\n",
        "```python\n",
        "X = np.array([1,2,3,4])\n",
        "\n",
        "X > 3 # [False, False, False, True]\n",
        "X < 3 # [True, True, False, False]\n",
        "X[X < 3] #[1, 2]\n",
        "X[X > 3] #[4]\n",
        "X[X != 3] #[1,2,4]\n",
        "```"
      ]
    },
    {
      "cell_type": "markdown",
      "metadata": {
        "id": "KR-GfrhB5hJA"
      },
      "source": [
        "**10**.  В чем преимущество массивов NumPy по сравнению с обычными списками.  Чем обусловлено это преимущество?\n",
        "\n",
        "Преимущества NumPy над обычными списками:\n",
        "\n",
        "*   Скорость: NumPy использует оптимизированный C-код\n",
        "*   Память: Более эффективное хранение данных\n",
        "*   Векторизация: Операции над всем массивом без циклов\n",
        "*   Математические функции: Богатый набор математических операций\n",
        "*   Интеграция: Хорошая совместимость с другими научными библиотеками\n",
        "\n",
        "Основные причины преимущества:\n",
        "\n",
        "*   Гомогенность данных (все элементы одного типа)\n",
        "*   Фиксированный размер массива\n",
        "*   Векторизованные операции\n",
        "*   Оптимизированная низкоуровневая реализация на C"
      ]
    }
  ],
  "metadata": {
    "colab": {
      "provenance": []
    },
    "kernelspec": {
      "display_name": "Python 3",
      "name": "python3"
    },
    "language_info": {
      "codemirror_mode": {
        "name": "ipython",
        "version": 3
      },
      "file_extension": ".py",
      "mimetype": "text/x-python",
      "name": "python",
      "nbconvert_exporter": "python",
      "pygments_lexer": "ipython3",
      "version": "3.12.2"
    }
  },
  "nbformat": 4,
  "nbformat_minor": 0
}
