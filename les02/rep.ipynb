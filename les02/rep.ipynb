{
  "cells": [
    {
      "cell_type": "markdown",
      "metadata": {
        "id": "fBgb6LoXsHIb"
      },
      "source": [
        "# Лабораторная работа №2. Основы Python"
      ]
    },
    {
      "cell_type": "markdown",
      "metadata": {
        "id": "SkWnUr-XsHIc"
      },
      "source": [
        "## Задание"
      ]
    },
    {
      "cell_type": "markdown",
      "metadata": {
        "id": "1HZ4nOyosHIc"
      },
      "source": [
        "Задача №1. https://leetcode.com/problems/two-sum/"
      ]
    },
    {
      "cell_type": "code",
      "execution_count": 5,
      "metadata": {
        "id": "957DwK7EsHIc",
        "outputId": "0a59de12-6f4c-4734-aa9e-af012fef4950",
        "colab": {
          "base_uri": "https://localhost:8080/"
        }
      },
      "outputs": [
        {
          "output_type": "stream",
          "name": "stdout",
          "text": [
            "Номера: [2, 7, 11, 15], число: 9 -> результат: [0, 1]\n",
            "Номера: [3, 2, 4], число: 6 -> результат: [1, 2]\n",
            "Номера: [3, 3], число: 6 -> результат: [0, 1]\n",
            "Номера: [-1, -2, -3, -4], число: -7 -> результат: [2, 3]\n"
          ]
        }
      ],
      "source": [
        "class Solution1(object):\n",
        "  def twoSum(nums, target):\n",
        "    for i in range(len(nums)):\n",
        "        for j in range(i + 1, len(nums)):\n",
        "            if nums[i] + nums[j] == target:\n",
        "                return [i, j]\n",
        "  test = [\n",
        "  ([2, 7, 11, 15], 9),\n",
        "  ([3, 2, 4], 6),\n",
        "  ([3, 3], 6),\n",
        "  ([-1, -2, -3, -4], -7)\n",
        "  ]\n",
        "\n",
        "  for nums, target in test:\n",
        "      result = twoSum(nums, target)\n",
        "      print(f\"Номера: {nums}, число: {target} -> результат: {result}\")"
      ]
    },
    {
      "cell_type": "markdown",
      "metadata": {
        "id": "IN04ofbIsHId"
      },
      "source": [
        "Задача №2. https://leetcode.com/problems/palindrome-number/description/"
      ]
    },
    {
      "cell_type": "code",
      "execution_count": 7,
      "metadata": {
        "id": "xm7rb5blsHId",
        "outputId": "073e596a-6752-457d-a3c9-769cafb85c13",
        "colab": {
          "base_uri": "https://localhost:8080/"
        }
      },
      "outputs": [
        {
          "output_type": "stream",
          "name": "stdout",
          "text": [
            "Введите число: 122\n",
            "False\n"
          ]
        }
      ],
      "source": [
        "class Solution2(object):\n",
        "  def isPalindrome(x):\n",
        "    if x < 0:\n",
        "        return False\n",
        "    if str(x) == str(x)[::-1]:\n",
        "        return True\n",
        "    else:\n",
        "        return False\n",
        "\n",
        "  x = int(input(\"Введите число: \"))\n",
        "  print(isPalindrome(x))\n",
        "\n",
        ""
      ]
    },
    {
      "cell_type": "markdown",
      "metadata": {
        "id": "El_H2B7JsHId"
      },
      "source": [
        "Задача №3. https://leetcode.com/problems/roman-to-integer/description/"
      ]
    },
    {
      "cell_type": "code",
      "execution_count": 8,
      "metadata": {
        "id": "RmmeN37RsHId",
        "outputId": "ac281f1b-947d-4868-b8fa-1412ea83185c",
        "colab": {
          "base_uri": "https://localhost:8080/"
        }
      },
      "outputs": [
        {
          "output_type": "stream",
          "name": "stdout",
          "text": [
            "Ввод: III -> Вывод: 3\n",
            "Ввод: LVIII -> Вывод: 58\n",
            "Ввод: MCMXCIV -> Вывод: 1994\n",
            "Ввод: IV -> Вывод: 4\n",
            "Ввод: IX -> Вывод: 9\n",
            "Ввод: XL -> Вывод: 40\n",
            "Ввод: XC -> Вывод: 90\n",
            "Ввод: CD -> Вывод: 400\n",
            "Ввод: CM -> Вывод: 900\n"
          ]
        }
      ],
      "source": [
        "class Solution3(object):\n",
        "  def romanToInt(s):\n",
        "    roman_values = {\n",
        "        'I': 1,\n",
        "        'V': 5,\n",
        "        'X': 10,\n",
        "        'L': 50,\n",
        "        'C': 100,\n",
        "        'D': 500,\n",
        "        'M': 1000\n",
        "    }\n",
        "\n",
        "    total = 0\n",
        "    prev_value = 0\n",
        "\n",
        "    for char in reversed(s):\n",
        "        current_value = roman_values[char]\n",
        "\n",
        "        if current_value < prev_value:\n",
        "            total -= current_value\n",
        "        else:\n",
        "            total += current_value\n",
        "\n",
        "        prev_value = current_value\n",
        "\n",
        "    return total\n",
        "\n",
        "\n",
        "  test = [\"III\", \"LVIII\", \"MCMXCIV\", \"IV\", \"IX\", \"XL\", \"XC\", \"CD\", \"CM\"]\n",
        "\n",
        "  for s in test:\n",
        "    result = romanToInt(s)\n",
        "    print(f\"Ввод: {s} -> Вывод: {result}\")"
      ]
    },
    {
      "cell_type": "markdown",
      "metadata": {
        "id": "axNzXdJEsHId"
      },
      "source": [
        "Задача №4. https://leetcode.com/problems/longest-common-prefix/description/"
      ]
    },
    {
      "cell_type": "code",
      "execution_count": 9,
      "metadata": {
        "id": "Em0nQp3rsHId",
        "outputId": "c0adec8e-7340-4baf-c67f-8ba8f894e080",
        "colab": {
          "base_uri": "https://localhost:8080/"
        }
      },
      "outputs": [
        {
          "output_type": "stream",
          "name": "stdout",
          "text": [
            "Ввод: ['flower', 'flow', 'flight'] -> Вывод: 'fl'\n",
            "Ввод: ['dog', 'racecar', 'car'] -> Вывод: ''\n",
            "Ввод: ['', 'abc', 'def'] -> Вывод: ''\n",
            "Ввод: ['abc', 'abc', 'abc'] -> Вывод: 'abc'\n",
            "Ввод: ['a'] -> Вывод: 'a'\n",
            "Ввод: ['abc', 'ab', 'a'] -> Вывод: 'a'\n"
          ]
        }
      ],
      "source": [
        "class Solution4(object):\n",
        "  def longestCommonPrefix(strs):\n",
        "    if not strs:\n",
        "        return \"\"\n",
        "\n",
        "    prefix = strs[0]\n",
        "\n",
        "    for string in strs[1:]:\n",
        "        while not string.startswith(prefix):\n",
        "            prefix = prefix[:-1]\n",
        "            if not prefix:\n",
        "                return \"\"\n",
        "\n",
        "    return prefix\n",
        "\n",
        "  test = [\n",
        "    [\"flower\", \"flow\", \"flight\"],\n",
        "    [\"dog\", \"racecar\", \"car\"],\n",
        "    [\"\", \"abc\", \"def\"],\n",
        "    [\"abc\", \"abc\", \"abc\"],\n",
        "    [\"a\"],\n",
        "    [\"abc\", \"ab\", \"a\"],\n",
        "  ]\n",
        "\n",
        "  for strs in test:\n",
        "      result = longestCommonPrefix(strs)\n",
        "      print(f\"Ввод: {strs} -> Вывод: '{result}'\")\n",
        ""
      ]
    },
    {
      "cell_type": "markdown",
      "metadata": {
        "id": "7HyqjswYsHId"
      },
      "source": [
        "Задача №5. https://leetcode.com/problems/merge-two-sorted-lists/description/"
      ]
    },
    {
      "cell_type": "code",
      "execution_count": 13,
      "metadata": {
        "id": "w-1hke8lsHId",
        "outputId": "ef43f614-348a-4e35-e23b-a3a7be31f2de",
        "colab": {
          "base_uri": "https://localhost:8080/"
        }
      },
      "outputs": [
        {
          "output_type": "stream",
          "name": "stdout",
          "text": [
            "Введённый список 1: [1, 2, 4]\n",
            "Введённый список 2: [1, 3, 4]\n",
            "Результат: [1, 1, 2, 3, 4, 4]\n"
          ]
        }
      ],
      "source": [
        "  class ListNode:\n",
        "    def __init__(self, val=0, next=None):\n",
        "        self.val = val\n",
        "        self.next = next\n",
        "\n",
        "  def createLinkedList(arr):\n",
        "      if not arr:\n",
        "            return None\n",
        "      head = ListNode(arr[0])\n",
        "      current = head\n",
        "      for val in arr[1:]:\n",
        "          current.next = ListNode(val)\n",
        "          current = current.next\n",
        "      return head\n",
        "\n",
        "  def linkedListToArray(head):\n",
        "    arr = []\n",
        "    current = head\n",
        "    while current:\n",
        "        arr.append(current.val)\n",
        "        current = current.next\n",
        "    return arr\n",
        "\n",
        "  def mergeTwoLists(list1, list2):\n",
        "    dummy = ListNode()\n",
        "    current = dummy\n",
        "\n",
        "    while list1 and list2:\n",
        "        if list1.val <= list2.val:\n",
        "            current.next = list1\n",
        "            list1 = list1.next\n",
        "        else:\n",
        "            current.next = list2\n",
        "            list2 = list2.next\n",
        "        current = current.next\n",
        "\n",
        "    current.next = list1 if list1 else list2\n",
        "\n",
        "    return dummy.next\n",
        "\n",
        "\n",
        "  list1_arr = [1, 2, 4]\n",
        "  list2_arr = [1, 3, 4]\n",
        "\n",
        "  list1 = createLinkedList(list1_arr)\n",
        "  list2 = createLinkedList(list2_arr)\n",
        "\n",
        "  result_head = mergeTwoLists(list1, list2)\n",
        "\n",
        "  result = linkedListToArray(result_head)\n",
        "\n",
        "  print(\"Введённый список 1:\", list1_arr)\n",
        "  print(\"Введённый список 2:\", list2_arr)\n",
        "  print(\"Результат:\", result)\n",
        ""
      ]
    },
    {
      "cell_type": "markdown",
      "metadata": {
        "id": "f9hw_LiVsHIe"
      },
      "source": [
        "Задача №6. https://leetcode.com/problems/longest-substring-without-repeating-characters/description/"
      ]
    },
    {
      "cell_type": "code",
      "execution_count": 14,
      "metadata": {
        "id": "uMQ1nagRsHIe",
        "outputId": "3c6454ef-d2a0-476b-9697-7ab998f993e8",
        "colab": {
          "base_uri": "https://localhost:8080/"
        }
      },
      "outputs": [
        {
          "output_type": "stream",
          "name": "stdout",
          "text": [
            "Ввод: 'abcabcbb' -> Вывод: 3\n",
            "Ввод: 'bbbbb' -> Вывод: 1\n",
            "Ввод: 'pwwkew' -> Вывод: 3\n",
            "Ввод: '' -> Вывод: 0\n",
            "Ввод: ' ' -> Вывод: 1\n",
            "Ввод: 'au' -> Вывод: 2\n",
            "Ввод: 'dvdf' -> Вывод: 3\n",
            "Ввод: 'фывафыва' -> Вывод: 4\n"
          ]
        }
      ],
      "source": [
        "class Solution(object):\n",
        "  def lengthOfLongestSubstring(s):\n",
        "    char_set = set()\n",
        "    left = 0\n",
        "    max_length = 0\n",
        "\n",
        "    for right in range(len(s)):\n",
        "\n",
        "        while s[right] in char_set:\n",
        "            char_set.remove(s[left])\n",
        "            left += 1\n",
        "\n",
        "        char_set.add(s[right])\n",
        "\n",
        "        max_length = max(max_length, right - left + 1)\n",
        "\n",
        "    return max_length\n",
        "\n",
        "  test = [\n",
        "    \"abcabcbb\",\n",
        "    \"bbbbb\",\n",
        "    \"pwwkew\",\n",
        "    \"\",\n",
        "    \" \",\n",
        "    \"au\",\n",
        "    \"dvdf\",\n",
        "    \"фывафыва\"\n",
        "  ]\n",
        "\n",
        "  for s in test:\n",
        "      result = lengthOfLongestSubstring(s)\n",
        "      print(f\"Ввод: '{s}' -> Вывод: {result}\")"
      ]
    },
    {
      "cell_type": "markdown",
      "metadata": {
        "id": "2HCJ1PTssHIe"
      },
      "source": [
        "## Вопросы\n",
        "\n",
        "1. Что такое динамическая типизация и чем она отличается от статической?\n",
        "\n",
        "Динамическая типизация — это подход к определению типов данных в программировании, при котором тип переменной известен во время выполнения программы, а не на этапе компиляции.\n",
        "\n",
        "Статическая типизация — это подход, при котором тип переменной известен на этапе компиляции.\n",
        "\n",
        "2. Чем отличается цикл for в Python от цикла for в С++?\n",
        "\n",
        "Цикл for в Python перебирает элементы последовательности (списка, кортежа, строки и т. д.) по очереди.\n",
        "\n",
        "Цикл for в С++ выполняет блок кода многократно определённое количество раз.\n",
        "\n",
        "3. Для чего предназначены операторы continue и break?\n",
        "\n",
        "Оператор break осуществляет выход из цикла. А оператор continue выполняет переход к следующей итерации цикла.\n",
        "\n",
        "4. Как определить функцию в python? Может ли функция возвращать несколько значений?\n",
        "\n",
        "Определение функции начинается с выражения def, которое состоит из имени функции, набора скобок с параметрами и двоеточия. Параметры в скобках необязательны. А со следующей строки идет блок инструкций, которые выполняет функция. Все инструкции функции имеют отступы от начала строки.\n",
        "\n",
        "Функция может возвращать несколько значений.\n",
        "\n",
        "5. Что такое лямбда функции и для чего они предназначены?\n",
        "\n",
        "Лямбда-выражения в языке Python представляют небольшие анонимные функции, которые определяются с помощью оператора lambda.\n",
        "\n",
        "6. Может ли тело функции содержать определение другой функции?\n",
        "\n",
        "Тело функции может содержать определение другой функции.\n",
        "\n",
        "7. Как определить класс в python? Для чего нужна переменная self?\n",
        "\n",
        "Класс определяется командой class.\n",
        "\n",
        "Переменная self нужна для работы с конкретным экземпляром класса в методах класса.\n",
        "\n",
        "8. Как определить приватный метод? Можно ли вызвать приватный метод за пределами класса?\n",
        "\n",
        "Любой метод или переменная экземпляра, имя которой начинается с двойного символа подчеркивания (__), являются приватными; все остальное приватным не является.\n",
        "\n",
        "Можно.\n",
        "\n",
        "9. Как определить статический метод класса? Для чего может понадобиться статический метод?\n",
        "\n",
        "Чтобы создать статический метод, используется декоратор @staticmethod.\n",
        "\n",
        "Если ни один экземпляр класса не был создан.\n",
        "\n",
        "10. Чем staticmethod отличается от classmethod?\n",
        "\n",
        "Методы классов похожи на статические методы в том отношении, что они могут вызываться до того, как будет создан объект класса, и они могут использоваться с указанием экземпляра класса. Однако методы класса неявно получают класс, к которому они принадлежат, в первом параметре.\n",
        "\n",
        "\n",
        "11. Как определить собственный класс исключений Python? Как выбросить и перехватить исключение?\n",
        "\n",
        "В Python можно определить собственный класс исключений, выбросить исключение с помощью оператора raise и перехватить исключение с помощью конструкции exception.\n",
        "\n",
        "12. Что такое картеж, для чего он используется?\n",
        "\n",
        "Кортеж (tuple) представляет последовательность элементов, которая во многом похожа на список за тем исключением, что кортеж является неизменяемым (immutable) типом. Поэтому нельзя добавлять или удалять элементы в кортеже, изменять его.\n",
        "\n",
        "\n"
      ]
    }
  ],
  "metadata": {
    "language_info": {
      "name": "python"
    },
    "colab": {
      "provenance": []
    },
    "kernelspec": {
      "name": "python3",
      "display_name": "Python 3"
    }
  },
  "nbformat": 4,
  "nbformat_minor": 0
}