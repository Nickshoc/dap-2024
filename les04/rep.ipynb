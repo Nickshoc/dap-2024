{
  "cells": [
    {
      "cell_type": "markdown",
      "metadata": {
        "id": "np5D8bsyFNxy"
      },
      "source": [
        "# Лабораторная работа №4.\n",
        "# Анализ данных пассажиров \"Титаника\"\n",
        "\n",
        "Используя набор данных titanic.csv выполните следующие 10 заданий."
      ]
    },
    {
      "cell_type": "code",
      "execution_count": 7,
      "metadata": {
        "id": "kq6QDiUtFNxz"
      },
      "outputs": [],
      "source": [
        "import numpy as np\n",
        "import pandas as pd"
      ]
    },
    {
      "cell_type": "markdown",
      "metadata": {
        "id": "1zhLnEl3FNxz"
      },
      "source": [
        "1. Создайте DataFarame из файла titanic.csv, в качестве индекса используйте столбец \"PassengerId\""
      ]
    },
    {
      "cell_type": "code",
      "execution_count": 26,
      "metadata": {
        "id": "BKkM9CLrFNxz"
      },
      "outputs": [],
      "source": [
        "# Ваш код здесь\n",
        "\n",
        "df = pd.read_csv('https://raw.githubusercontent.com/Nickshoc/dap-2024/refs/heads/main/les04/data/titanic.csv', index_col='PassengerId')"
      ]
    },
    {
      "cell_type": "markdown",
      "metadata": {
        "id": "wQWhfqS8FNxz"
      },
      "source": [
        "2. Просмотрите первые 6 строк"
      ]
    },
    {
      "cell_type": "code",
      "execution_count": 14,
      "metadata": {
        "colab": {
          "base_uri": "https://localhost:8080/"
        },
        "id": "vf4OSBFnFNxz",
        "outputId": "b0a68850-bc5e-45ed-d0ec-eb7435483bde"
      },
      "outputs": [
        {
          "output_type": "stream",
          "name": "stdout",
          "text": [
            "             Survived  Pclass  \\\n",
            "PassengerId                     \n",
            "1                   0       3   \n",
            "2                   1       1   \n",
            "3                   1       3   \n",
            "4                   1       1   \n",
            "5                   0       3   \n",
            "6                   0       3   \n",
            "\n",
            "                                                          Name     Sex   Age  \\\n",
            "PassengerId                                                                    \n",
            "1                                      Braund, Mr. Owen Harris    male  22.0   \n",
            "2            Cumings, Mrs. John Bradley (Florence Briggs Th...  female  38.0   \n",
            "3                                       Heikkinen, Miss. Laina  female  26.0   \n",
            "4                 Futrelle, Mrs. Jacques Heath (Lily May Peel)  female  35.0   \n",
            "5                                     Allen, Mr. William Henry    male  35.0   \n",
            "6                                             Moran, Mr. James    male   NaN   \n",
            "\n",
            "             SibSp  Parch            Ticket     Fare Cabin Embarked  \n",
            "PassengerId                                                          \n",
            "1                1      0         A/5 21171   7.2500   NaN        S  \n",
            "2                1      0          PC 17599  71.2833   C85        C  \n",
            "3                0      0  STON/O2. 3101282   7.9250   NaN        S  \n",
            "4                1      0            113803  53.1000  C123        S  \n",
            "5                0      0            373450   8.0500   NaN        S  \n",
            "6                0      0            330877   8.4583   NaN        Q  \n"
          ]
        }
      ],
      "source": [
        "# Ваш код здесь\n",
        "\n",
        "print(df.head(6))"
      ]
    },
    {
      "cell_type": "markdown",
      "metadata": {
        "id": "ysqTJpmBFNx0"
      },
      "source": [
        "3. Выведите описание данных"
      ]
    },
    {
      "cell_type": "code",
      "execution_count": 15,
      "metadata": {
        "colab": {
          "base_uri": "https://localhost:8080/"
        },
        "id": "4pb4HM7qFNx0",
        "outputId": "a46e104e-01ef-4d8d-c919-806a23381871"
      },
      "outputs": [
        {
          "output_type": "stream",
          "name": "stdout",
          "text": [
            "         Survived      Pclass         Age       SibSp       Parch        Fare\n",
            "count  891.000000  891.000000  714.000000  891.000000  891.000000  891.000000\n",
            "mean     0.383838    2.308642   29.699118    0.523008    0.381594   32.204208\n",
            "std      0.486592    0.836071   14.526497    1.102743    0.806057   49.693429\n",
            "min      0.000000    1.000000    0.420000    0.000000    0.000000    0.000000\n",
            "25%      0.000000    2.000000   20.125000    0.000000    0.000000    7.910400\n",
            "50%      0.000000    3.000000   28.000000    0.000000    0.000000   14.454200\n",
            "75%      1.000000    3.000000   38.000000    1.000000    0.000000   31.000000\n",
            "max      1.000000    3.000000   80.000000    8.000000    6.000000  512.329200\n"
          ]
        }
      ],
      "source": [
        "# Ваш код здесь\n",
        "\n",
        "print(df.describe())"
      ]
    },
    {
      "cell_type": "markdown",
      "metadata": {
        "id": "5khzm-7xFNx0"
      },
      "source": [
        "4. Сколько мужчин / женщин находилось на борту?"
      ]
    },
    {
      "cell_type": "code",
      "execution_count": 18,
      "metadata": {
        "colab": {
          "base_uri": "https://localhost:8080/"
        },
        "id": "0sN_L2fhFNx0",
        "outputId": "970e1010-d6c6-435e-da9a-44316187e93a"
      },
      "outputs": [
        {
          "output_type": "stream",
          "name": "stdout",
          "text": [
            "Мужчин: 577\n",
            "Женщин: 314\n"
          ]
        }
      ],
      "source": [
        "# Ваш код здесь\n",
        "\n",
        "gender_counts = df['Sex'].value_counts()\n",
        "print(f\"Мужчин: {gender_counts['male']}\")\n",
        "print(f\"Женщин: {gender_counts['female']}\")"
      ]
    },
    {
      "cell_type": "markdown",
      "metadata": {
        "id": "NXfEl5MdFNx0"
      },
      "source": [
        "4. Выведите распределение переменной Pclass (социально-экономический статус) и это же распределение, только для мужчин / женщин по отдельности. Сколько было мужчин 2-го класса"
      ]
    },
    {
      "cell_type": "code",
      "execution_count": 19,
      "metadata": {
        "colab": {
          "base_uri": "https://localhost:8080/"
        },
        "id": "NGAuXIY_FNx0",
        "outputId": "8f3bda47-f459-431d-a7ab-41c67758ab8b"
      },
      "outputs": [
        {
          "output_type": "stream",
          "name": "stdout",
          "text": [
            "Общее распределение по классам:\n",
            "Pclass\n",
            "1    216\n",
            "2    184\n",
            "3    491\n",
            "Name: count, dtype: int64\n",
            "\n",
            "Распределение по классам для мужчин:\n",
            "Pclass\n",
            "1    122\n",
            "2    108\n",
            "3    347\n",
            "Name: count, dtype: int64\n",
            "\n",
            "Распределение по классам для женщин:\n",
            "Pclass\n",
            "1     94\n",
            "2     76\n",
            "3    144\n",
            "Name: count, dtype: int64\n",
            "\n",
            "Мужчин 2-го класса: 108\n"
          ]
        }
      ],
      "source": [
        "# Ваш код здесь\n",
        "\n",
        "pclass = df['Pclass'].value_counts().sort_index()\n",
        "print(\"Общее распределение по классам:\")\n",
        "print(pclass)\n",
        "\n",
        "print(\"\\nРаспределение по классам для мужчин:\")\n",
        "men_pclass = df[df['Sex'] == 'male']['Pclass'].value_counts().sort_index()\n",
        "print(men_pclass)\n",
        "\n",
        "print(\"\\nРаспределение по классам для женщин:\")\n",
        "women_pclass = df[df['Sex'] == 'female']['Pclass'].value_counts().sort_index()\n",
        "print(women_pclass)\n",
        "\n",
        "print(f\"\\nМужчин 2-го класса: {men_pclass[2]}\")"
      ]
    },
    {
      "cell_type": "markdown",
      "metadata": {
        "id": "O4o93nWLFNx0"
      },
      "source": [
        "5. Каковы медиана и среднеквадрати́чное отклонение платежей (Fare)? Округлите до 2 десятичных знаков."
      ]
    },
    {
      "cell_type": "code",
      "execution_count": 20,
      "metadata": {
        "colab": {
          "base_uri": "https://localhost:8080/"
        },
        "id": "ESBTqJkoFNx0",
        "outputId": "71e290ac-5945-4c95-acbc-6d5eff96f389"
      },
      "outputs": [
        {
          "output_type": "stream",
          "name": "stdout",
          "text": [
            "Медиана Fare: 14.45\n",
            "Среднеквадратичное отклонение Fare: 49.69\n"
          ]
        }
      ],
      "source": [
        "# Ваш код здесь\n",
        "\n",
        "fare_median = round(df['Fare'].median(), 2)\n",
        "fare_std = round(df['Fare'].std(), 2)\n",
        "print(f\"Медиана Fare: {fare_median}\")\n",
        "print(f\"Среднеквадратичное отклонение Fare: {fare_std}\")"
      ]
    },
    {
      "cell_type": "markdown",
      "metadata": {
        "id": "9cWRvzkSFNx0"
      },
      "source": [
        "6. Правда ли, что люди моложе 30 лет выживали чаще, чем люди старше 60 лет? Каковы доли выживших в обеих группах?"
      ]
    },
    {
      "cell_type": "code",
      "execution_count": 21,
      "metadata": {
        "colab": {
          "base_uri": "https://localhost:8080/"
        },
        "id": "RqfyyYa7FNx1",
        "outputId": "ab77a971-ba38-4a8a-e87d-d05f631b273f"
      },
      "outputs": [
        {
          "output_type": "stream",
          "name": "stdout",
          "text": [
            "Доля выживших младше 30 лет: 40.62% (156/384)\n",
            "Доля выживших старше 60 лет: 22.73% (5/22)\n",
            "Люди моложе 30 лет выживали чаще: True\n"
          ]
        }
      ],
      "source": [
        "# Ваш код здесь\n",
        "\n",
        "young_survived = df[(df['Age'] < 30) & (df['Survived'] == 1)].shape[0]\n",
        "young_total = df[df['Age'] < 30].shape[0]\n",
        "young_rate = young_survived / young_total if young_total > 0 else 0\n",
        "\n",
        "old_survived = df[(df['Age'] > 60) & (df['Survived'] == 1)].shape[0]\n",
        "old_total = df[df['Age'] > 60].shape[0]\n",
        "old_rate = old_survived / old_total if old_total > 0 else 0\n",
        "\n",
        "print(f\"Доля выживших младше 30 лет: {young_rate:.2%} ({young_survived}/{young_total})\")\n",
        "print(f\"Доля выживших старше 60 лет: {old_rate:.2%} ({old_survived}/{old_total})\")\n",
        "print(f\"Люди моложе 30 лет выживали чаще: {young_rate > old_rate}\")"
      ]
    },
    {
      "cell_type": "markdown",
      "metadata": {
        "id": "Sa1z_Nb7FNx1"
      },
      "source": [
        "7. Правда ли, что женщины выживали чаще мужчин? Каковы доли выживших в обеих группах?"
      ]
    },
    {
      "cell_type": "code",
      "execution_count": 22,
      "metadata": {
        "colab": {
          "base_uri": "https://localhost:8080/"
        },
        "id": "o1Teh9DVFNx1",
        "outputId": "bfad56ea-c133-4bab-c701-29365f98123f"
      },
      "outputs": [
        {
          "output_type": "stream",
          "name": "stdout",
          "text": [
            "Доля выживших женщин: 74.20% (233/314)\n",
            "Доля выживших мужчин: 18.89% (109/577)\n",
            "Женщины выживали чаще мужчин: True\n"
          ]
        }
      ],
      "source": [
        "# Ваш код здесь\n",
        "\n",
        "women_survived = df[(df['Sex'] == 'female') & (df['Survived'] == 1)].shape[0]\n",
        "women_total = df[df['Sex'] == 'female'].shape[0]\n",
        "women_rate = women_survived / women_total\n",
        "\n",
        "men_survived = df[(df['Sex'] == 'male') & (df['Survived'] == 1)].shape[0]\n",
        "men_total = df[df['Sex'] == 'male'].shape[0]\n",
        "men_rate = men_survived / men_total\n",
        "\n",
        "print(f\"Доля выживших женщин: {women_rate:.2%} ({women_survived}/{women_total})\")\n",
        "print(f\"Доля выживших мужчин: {men_rate:.2%} ({men_survived}/{men_total})\")\n",
        "print(f\"Женщины выживали чаще мужчин: {women_rate > men_rate}\")"
      ]
    },
    {
      "cell_type": "markdown",
      "metadata": {
        "id": "oI7jgYKCFNx1"
      },
      "source": [
        "8.  Найдите самое популярное имя среди пассажиров Титаника мужского пола?"
      ]
    },
    {
      "cell_type": "code",
      "execution_count": 23,
      "metadata": {
        "colab": {
          "base_uri": "https://localhost:8080/"
        },
        "id": "sXAVQkS3FNx1",
        "outputId": "0ed1211d-5587-4876-8cfc-055efc822196"
      },
      "outputs": [
        {
          "output_type": "stream",
          "name": "stdout",
          "text": [
            "Самое популярное имя среди мужчин: William\n"
          ]
        }
      ],
      "source": [
        "# Ваш код здесь\n",
        "\n",
        "def extract_first_name(full_name):\n",
        "    name_parts = full_name.replace('\"', '').split(' ')\n",
        "    for i, part in enumerate(name_parts):\n",
        "        if '.' in part:\n",
        "            if i + 1 < len(name_parts):\n",
        "                return name_parts[i + 1]\n",
        "    return full_name\n",
        "\n",
        "men_df = df[df['Sex'] == 'male']\n",
        "men_names = men_df['Name'].apply(extract_first_name)\n",
        "most_common_name = men_names.mode()[0]\n",
        "print(f\"Самое популярное имя среди мужчин: {most_common_name}\")"
      ]
    },
    {
      "cell_type": "markdown",
      "metadata": {
        "id": "f90Ja2AqFNx1"
      },
      "source": [
        "\n",
        "\n",
        "9. Как отличается средний возраст мужчин / женщин в зависимости от класса обслуживания? Выберите верные утверждения:\n",
        "\n",
        "    В среднем мужчины 1-го класса старше 40 лет\n",
        "    В среднем женщины 1-го класса старше 40 лет\n",
        "    Мужчины всех классов в среднем старше женщин того же класса\n",
        "    В среднем люди в 1 классе старше, чем во 2-ом, а те старше представителей 3-го класса\n",
        "\n"
      ]
    },
    {
      "cell_type": "code",
      "execution_count": 24,
      "metadata": {
        "colab": {
          "base_uri": "https://localhost:8080/"
        },
        "id": "puFmjqwNFNx1",
        "outputId": "2d3e83d3-57cc-4f96-cb64-30460ded693f"
      },
      "outputs": [
        {
          "output_type": "stream",
          "name": "stdout",
          "text": [
            "Pclass  Sex   \n",
            "1       female    34.611765\n",
            "        male      41.281386\n",
            "2       female    28.722973\n",
            "        male      30.740707\n",
            "3       female    21.750000\n",
            "        male      26.507589\n",
            "Name: Age, dtype: float64\n",
            "\n",
            "Проверка утверждений:\n",
            "В среднем мужчины 1-го класса старше 40 лет: True\n",
            "В среднем женщины 1-го класса старше 40 лет: False\n",
            "Мужчины всех классов в среднем старше женщин того же класса: True\n",
            "В среднем люди в 1 классе старше, чем во 2-ом, а те старше представителей 3-го класса: True\n"
          ]
        }
      ],
      "source": [
        "# Ваш код здесь\n",
        "\n",
        "age_by_class_sex = df.groupby(['Pclass', 'Sex'])['Age'].mean()\n",
        "print(age_by_class_sex)\n",
        "\n",
        "\n",
        "print(\"\\nПроверка утверждений:\")\n",
        "men_1st_class_age = age_by_class_sex.loc[(1, 'male')]\n",
        "women_1st_class_age = age_by_class_sex.loc[(1, 'female')]\n",
        "\n",
        "print(f\"В среднем мужчины 1-го класса старше 40 лет: {men_1st_class_age > 40}\")\n",
        "print(f\"В среднем женщины 1-го класса старше 40 лет: {women_1st_class_age > 40}\")\n",
        "\n",
        "\n",
        "men_older = True\n",
        "for pclass in [1, 2, 3]:\n",
        "    men_age = age_by_class_sex.loc[(pclass, 'male')]\n",
        "    women_age = age_by_class_sex.loc[(pclass, 'female')]\n",
        "    if men_age <= women_age:\n",
        "        men_older = False\n",
        "        break\n",
        "print(f\"Мужчины всех классов в среднем старше женщин того же класса: {men_older}\")\n",
        "\n",
        "\n",
        "class_ages = df.groupby('Pclass')['Age'].mean()\n",
        "age_decreases = class_ages[1] > class_ages[2] > class_ages[3]\n",
        "print(f\"В среднем люди в 1 классе старше, чем во 2-ом, а те старше представителей 3-го класса: {age_decreases}\")"
      ]
    },
    {
      "cell_type": "markdown",
      "metadata": {
        "id": "PYYuxSxXFNx1"
      },
      "source": [
        "10. Сравните возраст у спасенных и у погибших пасажиров. Средний возраст погибших выше, верно?"
      ]
    },
    {
      "cell_type": "code",
      "execution_count": 25,
      "metadata": {
        "colab": {
          "base_uri": "https://localhost:8080/"
        },
        "id": "_hkD6LVJFNx1",
        "outputId": "45f4e774-aed5-4d84-f76d-bab554370bdb"
      },
      "outputs": [
        {
          "output_type": "stream",
          "name": "stdout",
          "text": [
            "Средний возраст спасенных: 28\n",
            "Средний возраст погибших: 31\n",
            "Средний возраст погибших выше: True\n"
          ]
        }
      ],
      "source": [
        "# Ваш код здесь\n",
        "\n",
        "survived_age = df[df['Survived'] == 1]['Age'].mean()\n",
        "died_age = df[df['Survived'] == 0]['Age'].mean()\n",
        "\n",
        "print(f\"Средний возраст спасенных: {survived_age:.0f}\")\n",
        "print(f\"Средний возраст погибших: {died_age:.0f}\")\n",
        "print(f\"Средний возраст погибших выше: {died_age > survived_age}\")"
      ]
    },
    {
      "cell_type": "markdown",
      "metadata": {
        "id": "XDQM8sgHFNx1"
      },
      "source": [
        "### Дополнительные вопросы для защиты\n",
        "\n",
        "1. Что такое медиана? Рассчитать медиану для предложенного ряда чисел.\n",
        "\n",
        "Медиана — это центральное значение в упорядоченном ряду данных, которое делит его на две равные части.\n",
        "\n",
        "Пример: для ряда чисел: 3, 1, 7, 2, 9\n",
        "\n",
        "Упорядочиваем: 1, 2, 3, 7, 9\n",
        "\n",
        "Медиана = 3\n",
        "\n",
        "2. Что такое дисперсия? Рассчитать дисперсию для предложенного ряда чисел.\n",
        "\n",
        "Дисперсия — это показатель разброса данных вокруг их среднего значения.\n",
        "\n",
        "Пример расчёта дисперсии для ряда чисел 8, 6, 0, 10:\n",
        "\n",
        "Среднее арифметическое: 6.\n",
        "\n",
        "Отклонения и квадраты отклонений:\n",
        "\n",
        "8: 8 – 6 = 2, 2² = 4;\n",
        "\n",
        "6: 6 – 6 = 0, 0² = 0;\n",
        "\n",
        "0: 0 – 6 = –6, (−6)² = 36;\n",
        "\n",
        "10: 10 – 6 = 4, 4² = 16.\n",
        "\n",
        "Дисперсия: 4 + 0 + 36 + 16 / 4 = 14.\n",
        "\n",
        "3. Что такое среднеквадратичное отклонение? Рассчитать среднеквадратичное отклонение для предложенного ряда чисел.\n",
        "\n",
        "Среднеквадратичное отклонение - это квадратный корень из дисперсии.\n",
        "\n",
        "Пример расчёта. Даны числа: 10, 8, 10, 8, 8, 4.\n",
        "\n",
        "Решение:\n",
        "\n",
        "Вычислить среднее значение: 10 + 8 + 10 + 8 + 8 + 4 = 48, 48 / 6 = 8.\n",
        "\n",
        "Найти дисперсию: 24 / 5 = 4,8.\n",
        "\n",
        "Вычислить среднеквадратичное отклонение: √4,8 = 2,19.\n",
        "\n",
        "\n",
        "4. Что такое Series и чем он отличается от DataFrame\n",
        "\n",
        "Series — одномерный массив данных.\n",
        "\n",
        "DataFrame — двумерная табличная структура данных.\n",
        "\n",
        "\n",
        "5. Можно ли изменить индекс в Series после создания объекта?\n",
        "\n",
        "Да, можно\n",
        "\n",
        "\n",
        "6. Можно ли выполнить операцию сложения над двумя объектами Series, если они имеют:\n",
        "- одинаковые типы данных, одинаковые размеры и одинаковые индексы? - Да\n",
        "- одинаковые типы данных, одинаковые размеры, но разные индексы?,  - Да\n",
        "- одинаковые типы данных, разные размеры и одинаковые индексы? - Нет\n",
        "- разные типы данных, одинаковые размеры и одинаковые индексы? - Да\n",
        "- разные типы данных, одинаковые размеры и разные индексы? - Да\n",
        "- разные типы данных, разные размеры и разные индексы? - Нет\n",
        "\n",
        "7. Что такое DataFrame и чем он отличается от Series\n",
        "\n",
        "Series — одномерный массив данных.\n",
        "\n",
        "DataFrame — двумерная табличная структура данных.\n",
        "\n",
        "8. Что необходимо сделать, чтобы число строк в DateFrame при его просмотре, по умолчанию составляло 8?\n",
        "\n",
        "import pandas as pd\n",
        "\n",
        "pd.set_option('display.max_rows', 8)\n",
        "\n",
        "df.head(8)\n",
        "\n",
        "9. Чем отличается метод iloc от метода loс\n",
        "\n",
        "loc - выбор по меткам\n",
        "\n",
        "iloc - выбор по позициям\n",
        "\n",
        "10. Можно ли добавить в DateFrame дополнительный Series?\n",
        "\n",
        "Да\n",
        "11. Требуются ли установка дополнительных библиотек для загрузки с помощью pandas файлов в формате CSV? Excel (.xls)? Json?\n",
        "\n",
        "Не требуется"
      ]
    }
  ],
  "metadata": {
    "kernelspec": {
      "display_name": "Python 3",
      "language": "python",
      "name": "python3"
    },
    "language_info": {
      "codemirror_mode": {
        "name": "ipython",
        "version": 3
      },
      "file_extension": ".py",
      "mimetype": "text/x-python",
      "name": "python",
      "nbconvert_exporter": "python",
      "pygments_lexer": "ipython3",
      "version": "3.12.2"
    },
    "colab": {
      "provenance": []
    }
  },
  "nbformat": 4,
  "nbformat_minor": 0
}